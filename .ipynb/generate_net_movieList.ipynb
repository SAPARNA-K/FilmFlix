{
  "nbformat": 4,
  "nbformat_minor": 0,
  "metadata": {
    "colab": {
      "name": "Untitled38.ipynb",
      "provenance": []
    },
    "kernelspec": {
      "name": "python3",
      "display_name": "Python 3"
    },
    "language_info": {
      "name": "python"
    }
  },
  "cells": [
    {
      "cell_type": "code",
      "execution_count": 3,
      "metadata": {
        "id": "FzbXCmShwxQn"
      },
      "outputs": [],
      "source": [
        "\n",
        "import pandas as pd\n"
      ]
    },
    {
      "cell_type": "code",
      "source": [
        "\n",
        "import pickle"
      ],
      "metadata": {
        "id": "yEm9FHfyxBSX"
      },
      "execution_count": 2,
      "outputs": []
    },
    {
      "cell_type": "code",
      "source": [
        "df = pd.read_csv(\"/content/Mall_Customers.csv\")"
      ],
      "metadata": {
        "id": "YF5DjlfTxGNh"
      },
      "execution_count": 8,
      "outputs": []
    },
    {
      "cell_type": "code",
      "source": [
        "gender= {'Male':0, 'Female':1}\n",
        "df['Gender']= df['Gender'].map(gender)\n"
      ],
      "metadata": {
        "id": "jRLpADtJ5AhF"
      },
      "execution_count": 9,
      "outputs": []
    },
    {
      "cell_type": "code",
      "source": [
        "location={'urban':1,'rural':0}\n",
        "df['Location']= df['Location'].map(location)\n",
        "print(df.head)\n"
      ],
      "metadata": {
        "colab": {
          "base_uri": "https://localhost:8080/"
        },
        "id": "PKX2eLt-5DMq",
        "outputId": "f01ba5ff-2c27-4acf-faee-bc4a82c7e98c"
      },
      "execution_count": 10,
      "outputs": [
        {
          "output_type": "stream",
          "name": "stdout",
          "text": [
            "<bound method NDFrame.head of      Gender  Age  Annual Income (k$)  Location     genre\n",
            "0         0   19                  15         1    action\n",
            "1         0   21                  15         1    action\n",
            "2         1   20                  16         0    action\n",
            "3         1   23                  16         1    action\n",
            "4         1   31                  17         0  thriller\n",
            "..      ...  ...                 ...       ...       ...\n",
            "196       1   45                 126         1   romance\n",
            "197       0   32                 126         0  thriller\n",
            "198       0   32                 137         0  thriller\n",
            "199       0   30                 137         0  thriller\n",
            "200       1   20                  50         1    action\n",
            "\n",
            "[201 rows x 5 columns]>\n"
          ]
        }
      ]
    },
    {
      "cell_type": "code",
      "source": [
        "filename = 'net.pkl'\n",
        "outfile = open(filename,'wb')\n",
        "pickle.dump(df,outfile)\n",
        "outfile.close()"
      ],
      "metadata": {
        "id": "lUPE9KRO5WJP"
      },
      "execution_count": 11,
      "outputs": []
    },
    {
      "cell_type": "code",
      "source": [
        "pickle.dump('movie_list.csv',open('movie_list.pkl','wb'))"
      ],
      "metadata": {
        "id": "vC6e5LWFkIov"
      },
      "execution_count": 12,
      "outputs": []
    }
  ]
}